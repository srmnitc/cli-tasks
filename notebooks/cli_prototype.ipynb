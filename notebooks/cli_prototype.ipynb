{
 "cells": [
  {
   "cell_type": "code",
   "execution_count": 1,
   "metadata": {},
   "outputs": [],
   "source": [
    "from clitasks.tasks import Task"
   ]
  },
  {
   "cell_type": "code",
   "execution_count": 7,
   "metadata": {},
   "outputs": [
    {
     "data": {
      "text/plain": [
       "'cfd3bfca-8161-4265-9647-14321c8318ad'"
      ]
     },
     "execution_count": 7,
     "metadata": {},
     "output_type": "execute_result"
    }
   ],
   "source": [
    "import uuid\n",
    "str(uuid.uuid4())"
   ]
  },
  {
   "cell_type": "code",
   "execution_count": 2,
   "metadata": {},
   "outputs": [],
   "source": [
    "task = Task()"
   ]
  },
  {
   "cell_type": "code",
   "execution_count": 3,
   "metadata": {},
   "outputs": [],
   "source": [
    "t1 = { \"title\":\"Test2\",\n",
    "\t\t \"description\":\"this is description2\",\n",
    "\t\t \"priority\":1,\n",
    "\t\t \"due\":\"\",\n",
    "\t\t \"created\":\"\",\n",
    "         \"group\": \"ace\"}"
   ]
  },
  {
   "cell_type": "code",
   "execution_count": 32,
   "metadata": {},
   "outputs": [],
   "source": [
    "task.create_task(t1)"
   ]
  },
  {
   "cell_type": "code",
   "execution_count": 3,
   "metadata": {},
   "outputs": [],
   "source": [
    "data = task.db.all()"
   ]
  },
  {
   "cell_type": "code",
   "execution_count": 4,
   "metadata": {},
   "outputs": [
    {
     "data": {
      "text/html": [
       "<pre style=\"white-space:pre;overflow-x:auto;line-height:normal;font-family:Menlo,'DejaVu Sans Mono',consolas,'Courier New',monospace\"><span style=\"font-style: italic\">                                         cli tasks                                         </span>\n",
       "<span style=\"color: #c0c0c0\">┏━━━┳━━━━━━━━━━━━━━━━━━━━┳━━━━━━━━┳━━━━━━━┳━━━━━━━━━━━━━━━━━━━━━━┳━━━━━━━━━━┳━━━━━┳━━━━━━━┓</span>\n",
       "<span style=\"color: #c0c0c0\">┃</span><span style=\"color: #c0c0c0; font-weight: bold\"> # </span><span style=\"color: #c0c0c0\">┃</span><span style=\"color: #c0c0c0; font-weight: bold\"> Time               </span><span style=\"color: #c0c0c0\">┃</span><span style=\"color: #c0c0c0; font-weight: bold\"> Status </span><span style=\"color: #c0c0c0\">┃</span><span style=\"color: #c0c0c0; font-weight: bold\"> Title </span><span style=\"color: #c0c0c0\">┃</span><span style=\"color: #c0c0c0; font-weight: bold\"> Details              </span><span style=\"color: #c0c0c0\">┃</span><span style=\"color: #c0c0c0; font-weight: bold\"> Priority </span><span style=\"color: #c0c0c0\">┃</span><span style=\"color: #c0c0c0; font-weight: bold\"> Due </span><span style=\"color: #c0c0c0\">┃</span><span style=\"color: #c0c0c0; font-weight: bold\"> Group </span><span style=\"color: #c0c0c0\">┃</span>\n",
       "<span style=\"color: #c0c0c0\">┡━━━╇━━━━━━━━━━━━━━━━━━━━╇━━━━━━━━╇━━━━━━━╇━━━━━━━━━━━━━━━━━━━━━━╇━━━━━━━━━━╇━━━━━╇━━━━━━━┩</span>\n",
       "<span style=\"color: #c0c0c0\">│ </span><span style=\"color: #ef5350\">0</span><span style=\"color: #c0c0c0\"> │ </span><span style=\"color: #ef5350\">35.6 minutes ago..</span><span style=\"color: #c0c0c0\"> │ ❌     │ </span><span style=\"color: #ef5350\">Test2</span><span style=\"color: #c0c0c0\"> │ </span><span style=\"color: #ef5350\">this is description2</span><span style=\"color: #c0c0c0\"> │ </span><span style=\"color: #ef5350\">1</span><span style=\"color: #c0c0c0\">        │     │ </span><span style=\"color: #ef5350\">ace</span><span style=\"color: #c0c0c0\">   │</span>\n",
       "<span style=\"color: #c0c0c0\">└───┴────────────────────┴────────┴───────┴──────────────────────┴──────────┴─────┴───────┘</span>\n",
       "</pre>\n"
      ],
      "text/plain": [
       "<rich.jupyter.JupyterRenderable at 0x7fb1904437f0>"
      ]
     },
     "metadata": {},
     "output_type": "display_data"
    },
    {
     "data": {
      "text/html": [
       "<pre style=\"white-space:pre;overflow-x:auto;line-height:normal;font-family:Menlo,'DejaVu Sans Mono',consolas,'Courier New',monospace\"><span style=\"color: #78909c\">0% tasks done!</span>\n",
       "</pre>\n"
      ],
      "text/plain": [
       "<rich.jupyter.JupyterRenderable at 0x7fb190443780>"
      ]
     },
     "metadata": {},
     "output_type": "display_data"
    },
    {
     "data": {
      "text/html": [
       "<pre style=\"white-space:pre;overflow-x:auto;line-height:normal;font-family:Menlo,'DejaVu Sans Mono',consolas,'Courier New',monospace\"><span style=\"color: #42a5f5\">He who is not courageous enough to take risks will accomplish nothing in life. – Muhammad Ali</span>\n",
       "</pre>\n"
      ],
      "text/plain": [
       "<rich.jupyter.JupyterRenderable at 0x7fb190443c88>"
      ]
     },
     "metadata": {},
     "output_type": "display_data"
    }
   ],
   "source": [
    "task.formatted_print([data[1]])"
   ]
  },
  {
   "cell_type": "code",
   "execution_count": 34,
   "metadata": {},
   "outputs": [
    {
     "data": {
      "text/plain": [
       "(17.783333333333335, 'minutes')"
      ]
     },
     "execution_count": 34,
     "metadata": {},
     "output_type": "execute_result"
    }
   ],
   "source": [
    "task.find_from_when(data[0])"
   ]
  },
  {
   "cell_type": "code",
   "execution_count": 43,
   "metadata": {},
   "outputs": [],
   "source": [
    "data = [data[1]]"
   ]
  },
  {
   "cell_type": "markdown",
   "metadata": {},
   "source": [
    "columns  \n",
    "Time, status, task, details, priority, due, group"
   ]
  },
  {
   "cell_type": "code",
   "execution_count": 45,
   "metadata": {},
   "outputs": [],
   "source": [
    "def color_text(strtocolor, priority):\n",
    "    \"\"\"\n",
    "    Color text according to priority\n",
    "    \"\"\"\n",
    "    prdict = {\"1\": \"#EF5350\", \"2\": \"#FF8F00\", \"3\": \"#9E9D24\", \"0\": \"#78909C\"}\n",
    "    text = Text()\n",
    "    text.append(str(strtocolor), style=prdict[str(priority)])\n",
    "    return text"
   ]
  },
  {
   "cell_type": "code",
   "execution_count": 48,
   "metadata": {},
   "outputs": [
    {
     "data": {
      "text/html": [
       "<pre style=\"white-space:pre;overflow-x:auto;line-height:normal;font-family:Menlo,'DejaVu Sans Mono',consolas,'Courier New',monospace\"><span style=\"font-style: italic\">                                       cli tasks                                       </span>\n",
       "<span style=\"color: #c0c0c0\">┏━━━━━━━━━━━━━━━━━━━━┳━━━━━━━━┳━━━━━━━┳━━━━━━━━━━━━━━━━━━━━━━┳━━━━━━━━━━┳━━━━━┳━━━━━━━┓</span>\n",
       "<span style=\"color: #c0c0c0\">┃</span><span style=\"color: #c0c0c0; font-weight: bold\"> Time               </span><span style=\"color: #c0c0c0\">┃</span><span style=\"color: #c0c0c0; font-weight: bold\"> Status </span><span style=\"color: #c0c0c0\">┃</span><span style=\"color: #c0c0c0; font-weight: bold\"> title </span><span style=\"color: #c0c0c0\">┃</span><span style=\"color: #c0c0c0; font-weight: bold\"> details              </span><span style=\"color: #c0c0c0\">┃</span><span style=\"color: #c0c0c0; font-weight: bold\"> priority </span><span style=\"color: #c0c0c0\">┃</span><span style=\"color: #c0c0c0; font-weight: bold\"> due </span><span style=\"color: #c0c0c0\">┃</span><span style=\"color: #c0c0c0; font-weight: bold\"> group </span><span style=\"color: #c0c0c0\">┃</span>\n",
       "<span style=\"color: #c0c0c0\">┡━━━━━━━━━━━━━━━━━━━━╇━━━━━━━━╇━━━━━━━╇━━━━━━━━━━━━━━━━━━━━━━╇━━━━━━━━━━╇━━━━━╇━━━━━━━┩</span>\n",
       "<span style=\"color: #c0c0c0\">│ </span><span style=\"color: #ef5350\">15.2 minutes ago..</span><span style=\"color: #c0c0c0\"> │ ❌     │ </span><span style=\"color: #ef5350\">Test2</span><span style=\"color: #c0c0c0\"> │ </span><span style=\"color: #ef5350\">this is description2</span><span style=\"color: #c0c0c0\"> │ </span><span style=\"color: #ef5350\">1</span><span style=\"color: #c0c0c0\">        │     │ </span><span style=\"color: #ef5350\">ace</span><span style=\"color: #c0c0c0\">   │</span>\n",
       "<span style=\"color: #c0c0c0\">└────────────────────┴────────┴───────┴──────────────────────┴──────────┴─────┴───────┘</span>\n",
       "</pre>\n"
      ],
      "text/plain": [
       "<rich.jupyter.JupyterRenderable at 0x7f5e200aca20>"
      ]
     },
     "metadata": {},
     "output_type": "display_data"
    },
    {
     "data": {
      "text/html": [
       "<pre style=\"white-space:pre;overflow-x:auto;line-height:normal;font-family:Menlo,'DejaVu Sans Mono',consolas,'Courier New',monospace\"><span style=\"color: #42a5f5\">extra info</span>\n",
       "</pre>\n"
      ],
      "text/plain": [
       "<rich.jupyter.JupyterRenderable at 0x7f5e196fba90>"
      ]
     },
     "metadata": {},
     "output_type": "display_data"
    },
    {
     "data": {
      "text/html": [
       "<pre style=\"white-space:pre;overflow-x:auto;line-height:normal;font-family:Menlo,'DejaVu Sans Mono',consolas,'Courier New',monospace\"><span style=\"color: #42a5f5\">extra info</span>\n",
       "</pre>\n"
      ],
      "text/plain": [
       "<rich.jupyter.JupyterRenderable at 0x7f5e196fbf60>"
      ]
     },
     "metadata": {},
     "output_type": "display_data"
    }
   ],
   "source": [
    "table = Table(title=\"cli tasks\", style=\"white\")\n",
    "table.add_column(\"Time\")\n",
    "table.add_column(\"Status\")\n",
    "table.add_column(\"title\")\n",
    "table.add_column(\"details\")\n",
    "table.add_column(\"priority\")\n",
    "table.add_column(\"due\")\n",
    "table.add_column(\"group\")\n",
    "\n",
    "\n",
    "\n",
    "for d in data:\n",
    "    time, timestr = task.find_from_when(d)\n",
    "    if d[\"status\"]:\n",
    "        r2 = \":heavy_check_mark:\"\n",
    "    else:\n",
    "        r2 = \":x:\"\n",
    "    r1 = \"%.1f %s ago..\"%(time, timestr)\n",
    "    r1 = color_text(r1, d['priority'])        \n",
    "    r3 = color_text(d[\"title\"], d['priority'])\n",
    "    r4 = color_text(d['description'], d['priority'])\n",
    "    r5 = color_text(d['priority'], d['priority'])\n",
    "    r6 = color_text(d['due'], d['priority'])\n",
    "    r7 = color_text(d['group'], d['priority'])\n",
    "    table.add_row(r1, r2, r3, r4, r5, r6, r7)\n",
    "console = Console()\n",
    "console.print(table)\n",
    "console.print(\"extra info\", style=\"#42A5F5\")\n",
    "console.print(\"extra info\", style=\"#42A5F5\")"
   ]
  },
  {
   "cell_type": "code",
   "execution_count": 12,
   "metadata": {},
   "outputs": [
    {
     "data": {
      "text/html": [
       "<pre style=\"white-space:pre;overflow-x:auto;line-height:normal;font-family:Menlo,'DejaVu Sans Mono',consolas,'Courier New',monospace\"><span style=\"font-style: italic\">                          Star Wars Movies                           </span>\n",
       "┏━━━━━━━━━━━━━━┳━━━━━━━━━━━━━━━━━━━━━━━━━━━━━━━━━━━┳━━━━━━━━━━━━━━━━┓\n",
       "┃<span style=\"font-weight: bold\">     Released </span>┃<span style=\"font-weight: bold\"> Title                             </span>┃<span style=\"font-weight: bold\">     Box Office </span>┃\n",
       "┡━━━━━━━━━━━━━━╇━━━━━━━━━━━━━━━━━━━━━━━━━━━━━━━━━━━╇━━━━━━━━━━━━━━━━┩\n",
       "│<span style=\"color: #008080; text-decoration-color: #008080\"> Dec 20, 2019 </span>│<span style=\"color: #800080; text-decoration-color: #800080\"> Star Wars: The Rise of Skywalker  </span>│<span style=\"color: #008000; text-decoration-color: #008000\">   $952,110,690 </span>│\n",
       "│<span style=\"color: #008080; text-decoration-color: #008080\"> May 25, 2018 </span>│<span style=\"color: #800080; text-decoration-color: #800080\"> Solo: A Star Wars Story           </span>│<span style=\"color: #008000; text-decoration-color: #008000\">   $393,151,347 </span>│\n",
       "│<span style=\"color: #008080; text-decoration-color: #008080\"> Dec 15, 2017 </span>│<span style=\"color: #800080; text-decoration-color: #800080\"> Star Wars Ep. V111: The Last Jedi </span>│<span style=\"color: #008000; text-decoration-color: #008000\"> $1,332,539,889 </span>│\n",
       "│<span style=\"color: #008080; text-decoration-color: #008080\"> Dec 16, 2016 </span>│<span style=\"color: #800080; text-decoration-color: #800080\"> Rogue One: A Star Wars Story      </span>│<span style=\"color: #008000; text-decoration-color: #008000\"> $1,332,439,889 </span>│\n",
       "└──────────────┴───────────────────────────────────┴────────────────┘\n",
       "</pre>\n"
      ],
      "text/plain": [
       "\u001b[3m                          Star Wars Movies                           \u001b[0m\n",
       "┏━━━━━━━━━━━━━━┳━━━━━━━━━━━━━━━━━━━━━━━━━━━━━━━━━━━┳━━━━━━━━━━━━━━━━┓\n",
       "┃\u001b[1m \u001b[0m\u001b[1m    Released\u001b[0m\u001b[1m \u001b[0m┃\u001b[1m \u001b[0m\u001b[1mTitle                            \u001b[0m\u001b[1m \u001b[0m┃\u001b[1m \u001b[0m\u001b[1m    Box Office\u001b[0m\u001b[1m \u001b[0m┃\n",
       "┡━━━━━━━━━━━━━━╇━━━━━━━━━━━━━━━━━━━━━━━━━━━━━━━━━━━╇━━━━━━━━━━━━━━━━┩\n",
       "│\u001b[36m \u001b[0m\u001b[36mDec 20, 2019\u001b[0m\u001b[36m \u001b[0m│\u001b[35m \u001b[0m\u001b[35mStar Wars: The Rise of Skywalker \u001b[0m\u001b[35m \u001b[0m│\u001b[32m \u001b[0m\u001b[32m  $952,110,690\u001b[0m\u001b[32m \u001b[0m│\n",
       "│\u001b[36m \u001b[0m\u001b[36mMay 25, 2018\u001b[0m\u001b[36m \u001b[0m│\u001b[35m \u001b[0m\u001b[35mSolo: A Star Wars Story          \u001b[0m\u001b[35m \u001b[0m│\u001b[32m \u001b[0m\u001b[32m  $393,151,347\u001b[0m\u001b[32m \u001b[0m│\n",
       "│\u001b[36m \u001b[0m\u001b[36mDec 15, 2017\u001b[0m\u001b[36m \u001b[0m│\u001b[35m \u001b[0m\u001b[35mStar Wars Ep. V111: The Last Jedi\u001b[0m\u001b[35m \u001b[0m│\u001b[32m \u001b[0m\u001b[32m$1,332,539,889\u001b[0m\u001b[32m \u001b[0m│\n",
       "│\u001b[36m \u001b[0m\u001b[36mDec 16, 2016\u001b[0m\u001b[36m \u001b[0m│\u001b[35m \u001b[0m\u001b[35mRogue One: A Star Wars Story     \u001b[0m\u001b[35m \u001b[0m│\u001b[32m \u001b[0m\u001b[32m$1,332,439,889\u001b[0m\u001b[32m \u001b[0m│\n",
       "└──────────────┴───────────────────────────────────┴────────────────┘\n"
      ]
     },
     "metadata": {},
     "output_type": "display_data"
    }
   ],
   "source": [
    "table = Table(title=\"Star Wars Movies\")\n",
    "\n",
    "table.add_column(\"Released\", justify=\"right\", style=\"cyan\", no_wrap=True)\n",
    "table.add_column(\"Title\", style=\"magenta\")\n",
    "table.add_column(\"Box Office\", justify=\"right\", style=\"green\")\n",
    "\n",
    "table.add_row(\"Dec 20, 2019\", \"Star Wars: The Rise of Skywalker\", \"$952,110,690\")\n",
    "table.add_row(\"May 25, 2018\", \"Solo: A Star Wars Story\", \"$393,151,347\")\n",
    "table.add_row(\"Dec 15, 2017\", \"Star Wars Ep. V111: The Last Jedi\", \"$1,332,539,889\")\n",
    "table.add_row(\"Dec 16, 2016\", \"Rogue One: A Star Wars Story\", \"$1,332,439,889\")\n",
    "\n",
    "console = Console()\n",
    "console.print(table)"
   ]
  }
 ],
 "metadata": {
  "kernelspec": {
   "display_name": "Python 3",
   "language": "python",
   "name": "python3"
  },
  "language_info": {
   "codemirror_mode": {
    "name": "ipython",
    "version": 3
   },
   "file_extension": ".py",
   "mimetype": "text/x-python",
   "name": "python",
   "nbconvert_exporter": "python",
   "pygments_lexer": "ipython3",
   "version": "3.6.13"
  }
 },
 "nbformat": 4,
 "nbformat_minor": 4
}
