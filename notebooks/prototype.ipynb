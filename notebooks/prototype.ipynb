{
 "cells": [
  {
   "cell_type": "code",
   "execution_count": 14,
   "metadata": {},
   "outputs": [],
   "source": [
    "from rich.console import Console\n",
    "from rich.table import Table\n",
    "import copy"
   ]
  },
  {
   "cell_type": "code",
   "execution_count": 2,
   "metadata": {},
   "outputs": [],
   "source": [
    "from clitasks.tasks import Task"
   ]
  },
  {
   "cell_type": "code",
   "execution_count": 3,
   "metadata": {},
   "outputs": [],
   "source": [
    "import datetime"
   ]
  },
  {
   "cell_type": "code",
   "execution_count": 4,
   "metadata": {},
   "outputs": [],
   "source": [
    "task = Task()"
   ]
  },
  {
   "cell_type": "code",
   "execution_count": 5,
   "metadata": {},
   "outputs": [],
   "source": [
    "t1 = { \"title\":\"Test2\",\n",
    "\t\t \"description\":\"this is description2\",\n",
    "\t\t \"priority\":\"high\",\n",
    "\t\t \"due\":\"\",\n",
    "\t\t \"created\":\"\",\n",
    "         \"group\": \"ace\"}"
   ]
  },
  {
   "cell_type": "code",
   "execution_count": 6,
   "metadata": {},
   "outputs": [],
   "source": [
    "task.create_task(t1)"
   ]
  },
  {
   "cell_type": "code",
   "execution_count": 10,
   "metadata": {},
   "outputs": [],
   "source": [
    "data = task.db.all()"
   ]
  },
  {
   "cell_type": "code",
   "execution_count": 13,
   "metadata": {},
   "outputs": [
    {
     "data": {
      "text/plain": [
       "(2.85, 'minutes')"
      ]
     },
     "execution_count": 13,
     "metadata": {},
     "output_type": "execute_result"
    }
   ],
   "source": [
    "task.find_from_when(data[1])"
   ]
  },
  {
   "cell_type": "code",
   "execution_count": null,
   "metadata": {},
   "outputs": [],
   "source": [
    "columns\n",
    "Time, status, task, details, priority, due, group"
   ]
  },
  {
   "cell_type": "code",
   "execution_count": 15,
   "metadata": {},
   "outputs": [
    {
     "data": {
      "text/plain": [
       "{'title': 'Test',\n",
       " 'description': 'this is description',\n",
       " 'priority': 'normal',\n",
       " 'due': '',\n",
       " 'created': '2021-09-05 22:39:16.877260',\n",
       " 'group': 'ace',\n",
       " 'status': False}"
      ]
     },
     "execution_count": 15,
     "metadata": {},
     "output_type": "execute_result"
    }
   ],
   "source": [
    "data[0]"
   ]
  },
  {
   "cell_type": "code",
   "execution_count": 20,
   "metadata": {},
   "outputs": [
    {
     "data": {
      "text/html": [
       "<pre style=\"white-space:pre;overflow-x:auto;line-height:normal;font-family:Menlo,'DejaVu Sans Mono',consolas,'Courier New',monospace\"><span style=\"font-style: italic\">                                       cli tasks                                       </span>\n",
       "┏━━━━━━━━━━━━━━━━━━━━┳━━━━━━━━┳━━━━━━━┳━━━━━━━━━━━━━━━━━━━━━━┳━━━━━━━━━━┳━━━━━┳━━━━━━━┓\n",
       "┃<span style=\"font-weight: bold\"> Time               </span>┃<span style=\"font-weight: bold\"> Status </span>┃<span style=\"font-weight: bold\"> title </span>┃<span style=\"font-weight: bold\"> details              </span>┃<span style=\"font-weight: bold\"> priority </span>┃<span style=\"font-weight: bold\"> due </span>┃<span style=\"font-weight: bold\"> group </span>┃\n",
       "┡━━━━━━━━━━━━━━━━━━━━╇━━━━━━━━╇━━━━━━━╇━━━━━━━━━━━━━━━━━━━━━━╇━━━━━━━━━━╇━━━━━╇━━━━━━━┩\n",
       "│<span style=\"color: #800080; text-decoration-color: #800080\"> 23.3 minutes ago.. </span>│<span style=\"color: #800080; text-decoration-color: #800080\"> False  </span>│<span style=\"color: #800080; text-decoration-color: #800080\"> Test  </span>│<span style=\"color: #800080; text-decoration-color: #800080\"> this is description  </span>│<span style=\"color: #800080; text-decoration-color: #800080\"> normal   </span>│<span style=\"color: #800080; text-decoration-color: #800080\">     </span>│<span style=\"color: #800080; text-decoration-color: #800080\"> ace   </span>│\n",
       "│<span style=\"color: #800080; text-decoration-color: #800080\"> 17.7 minutes ago.. </span>│<span style=\"color: #800080; text-decoration-color: #800080\"> False  </span>│<span style=\"color: #800080; text-decoration-color: #800080\"> Test2 </span>│<span style=\"color: #800080; text-decoration-color: #800080\"> this is description2 </span>│<span style=\"color: #800080; text-decoration-color: #800080\"> high     </span>│<span style=\"color: #800080; text-decoration-color: #800080\">     </span>│<span style=\"color: #800080; text-decoration-color: #800080\"> ace   </span>│\n",
       "└────────────────────┴────────┴───────┴──────────────────────┴──────────┴─────┴───────┘\n",
       "</pre>\n"
      ],
      "text/plain": [
       "\u001b[3m                                       cli tasks                                       \u001b[0m\n",
       "┏━━━━━━━━━━━━━━━━━━━━┳━━━━━━━━┳━━━━━━━┳━━━━━━━━━━━━━━━━━━━━━━┳━━━━━━━━━━┳━━━━━┳━━━━━━━┓\n",
       "┃\u001b[1m \u001b[0m\u001b[1mTime              \u001b[0m\u001b[1m \u001b[0m┃\u001b[1m \u001b[0m\u001b[1mStatus\u001b[0m\u001b[1m \u001b[0m┃\u001b[1m \u001b[0m\u001b[1mtitle\u001b[0m\u001b[1m \u001b[0m┃\u001b[1m \u001b[0m\u001b[1mdetails             \u001b[0m\u001b[1m \u001b[0m┃\u001b[1m \u001b[0m\u001b[1mpriority\u001b[0m\u001b[1m \u001b[0m┃\u001b[1m \u001b[0m\u001b[1mdue\u001b[0m\u001b[1m \u001b[0m┃\u001b[1m \u001b[0m\u001b[1mgroup\u001b[0m\u001b[1m \u001b[0m┃\n",
       "┡━━━━━━━━━━━━━━━━━━━━╇━━━━━━━━╇━━━━━━━╇━━━━━━━━━━━━━━━━━━━━━━╇━━━━━━━━━━╇━━━━━╇━━━━━━━┩\n",
       "│\u001b[35m \u001b[0m\u001b[35m23.3 minutes ago..\u001b[0m\u001b[35m \u001b[0m│\u001b[35m \u001b[0m\u001b[35mFalse \u001b[0m\u001b[35m \u001b[0m│\u001b[35m \u001b[0m\u001b[35mTest \u001b[0m\u001b[35m \u001b[0m│\u001b[35m \u001b[0m\u001b[35mthis is description \u001b[0m\u001b[35m \u001b[0m│\u001b[35m \u001b[0m\u001b[35mnormal  \u001b[0m\u001b[35m \u001b[0m│\u001b[35m \u001b[0m\u001b[35m   \u001b[0m\u001b[35m \u001b[0m│\u001b[35m \u001b[0m\u001b[35mace  \u001b[0m\u001b[35m \u001b[0m│\n",
       "│\u001b[35m \u001b[0m\u001b[35m17.7 minutes ago..\u001b[0m\u001b[35m \u001b[0m│\u001b[35m \u001b[0m\u001b[35mFalse \u001b[0m\u001b[35m \u001b[0m│\u001b[35m \u001b[0m\u001b[35mTest2\u001b[0m\u001b[35m \u001b[0m│\u001b[35m \u001b[0m\u001b[35mthis is description2\u001b[0m\u001b[35m \u001b[0m│\u001b[35m \u001b[0m\u001b[35mhigh    \u001b[0m\u001b[35m \u001b[0m│\u001b[35m \u001b[0m\u001b[35m   \u001b[0m\u001b[35m \u001b[0m│\u001b[35m \u001b[0m\u001b[35mace  \u001b[0m\u001b[35m \u001b[0m│\n",
       "└────────────────────┴────────┴───────┴──────────────────────┴──────────┴─────┴───────┘\n"
      ]
     },
     "metadata": {},
     "output_type": "display_data"
    }
   ],
   "source": [
    "table = Table(title=\"cli tasks\")\n",
    "table.add_column(\"Time\", style=\"magenta\")\n",
    "table.add_column(\"Status\", style=\"magenta\")\n",
    "table.add_column(\"title\", style=\"magenta\")\n",
    "table.add_column(\"details\", style=\"magenta\")\n",
    "table.add_column(\"priority\", style=\"magenta\")\n",
    "table.add_column(\"due\", style=\"magenta\")\n",
    "table.add_column(\"group\", style=\"magenta\")\n",
    "\n",
    "for d in data:\n",
    "    time, timestr = task.find_from_when(d)\n",
    "    r1 = \"%.1f %s ago..\"%(time, timestr)\n",
    "    r2 = str(d[\"status\"])\n",
    "    r3 = d[\"title\"]\n",
    "    r4 = d['description']\n",
    "    r5 = d['priority']\n",
    "    r6 = d['due']\n",
    "    r7 = d['group']\n",
    "    table.add_row(r1, r2, r3, r4, r5, r6, r7)\n",
    "console = Console()\n",
    "console.print(table)"
   ]
  },
  {
   "cell_type": "code",
   "execution_count": 12,
   "metadata": {},
   "outputs": [
    {
     "data": {
      "text/html": [
       "<pre style=\"white-space:pre;overflow-x:auto;line-height:normal;font-family:Menlo,'DejaVu Sans Mono',consolas,'Courier New',monospace\"><span style=\"font-style: italic\">                          Star Wars Movies                           </span>\n",
       "┏━━━━━━━━━━━━━━┳━━━━━━━━━━━━━━━━━━━━━━━━━━━━━━━━━━━┳━━━━━━━━━━━━━━━━┓\n",
       "┃<span style=\"font-weight: bold\">     Released </span>┃<span style=\"font-weight: bold\"> Title                             </span>┃<span style=\"font-weight: bold\">     Box Office </span>┃\n",
       "┡━━━━━━━━━━━━━━╇━━━━━━━━━━━━━━━━━━━━━━━━━━━━━━━━━━━╇━━━━━━━━━━━━━━━━┩\n",
       "│<span style=\"color: #008080; text-decoration-color: #008080\"> Dec 20, 2019 </span>│<span style=\"color: #800080; text-decoration-color: #800080\"> Star Wars: The Rise of Skywalker  </span>│<span style=\"color: #008000; text-decoration-color: #008000\">   $952,110,690 </span>│\n",
       "│<span style=\"color: #008080; text-decoration-color: #008080\"> May 25, 2018 </span>│<span style=\"color: #800080; text-decoration-color: #800080\"> Solo: A Star Wars Story           </span>│<span style=\"color: #008000; text-decoration-color: #008000\">   $393,151,347 </span>│\n",
       "│<span style=\"color: #008080; text-decoration-color: #008080\"> Dec 15, 2017 </span>│<span style=\"color: #800080; text-decoration-color: #800080\"> Star Wars Ep. V111: The Last Jedi </span>│<span style=\"color: #008000; text-decoration-color: #008000\"> $1,332,539,889 </span>│\n",
       "│<span style=\"color: #008080; text-decoration-color: #008080\"> Dec 16, 2016 </span>│<span style=\"color: #800080; text-decoration-color: #800080\"> Rogue One: A Star Wars Story      </span>│<span style=\"color: #008000; text-decoration-color: #008000\"> $1,332,439,889 </span>│\n",
       "└──────────────┴───────────────────────────────────┴────────────────┘\n",
       "</pre>\n"
      ],
      "text/plain": [
       "\u001b[3m                          Star Wars Movies                           \u001b[0m\n",
       "┏━━━━━━━━━━━━━━┳━━━━━━━━━━━━━━━━━━━━━━━━━━━━━━━━━━━┳━━━━━━━━━━━━━━━━┓\n",
       "┃\u001b[1m \u001b[0m\u001b[1m    Released\u001b[0m\u001b[1m \u001b[0m┃\u001b[1m \u001b[0m\u001b[1mTitle                            \u001b[0m\u001b[1m \u001b[0m┃\u001b[1m \u001b[0m\u001b[1m    Box Office\u001b[0m\u001b[1m \u001b[0m┃\n",
       "┡━━━━━━━━━━━━━━╇━━━━━━━━━━━━━━━━━━━━━━━━━━━━━━━━━━━╇━━━━━━━━━━━━━━━━┩\n",
       "│\u001b[36m \u001b[0m\u001b[36mDec 20, 2019\u001b[0m\u001b[36m \u001b[0m│\u001b[35m \u001b[0m\u001b[35mStar Wars: The Rise of Skywalker \u001b[0m\u001b[35m \u001b[0m│\u001b[32m \u001b[0m\u001b[32m  $952,110,690\u001b[0m\u001b[32m \u001b[0m│\n",
       "│\u001b[36m \u001b[0m\u001b[36mMay 25, 2018\u001b[0m\u001b[36m \u001b[0m│\u001b[35m \u001b[0m\u001b[35mSolo: A Star Wars Story          \u001b[0m\u001b[35m \u001b[0m│\u001b[32m \u001b[0m\u001b[32m  $393,151,347\u001b[0m\u001b[32m \u001b[0m│\n",
       "│\u001b[36m \u001b[0m\u001b[36mDec 15, 2017\u001b[0m\u001b[36m \u001b[0m│\u001b[35m \u001b[0m\u001b[35mStar Wars Ep. V111: The Last Jedi\u001b[0m\u001b[35m \u001b[0m│\u001b[32m \u001b[0m\u001b[32m$1,332,539,889\u001b[0m\u001b[32m \u001b[0m│\n",
       "│\u001b[36m \u001b[0m\u001b[36mDec 16, 2016\u001b[0m\u001b[36m \u001b[0m│\u001b[35m \u001b[0m\u001b[35mRogue One: A Star Wars Story     \u001b[0m\u001b[35m \u001b[0m│\u001b[32m \u001b[0m\u001b[32m$1,332,439,889\u001b[0m\u001b[32m \u001b[0m│\n",
       "└──────────────┴───────────────────────────────────┴────────────────┘\n"
      ]
     },
     "metadata": {},
     "output_type": "display_data"
    }
   ],
   "source": [
    "table = Table(title=\"Star Wars Movies\")\n",
    "\n",
    "table.add_column(\"Released\", justify=\"right\", style=\"cyan\", no_wrap=True)\n",
    "table.add_column(\"Title\", style=\"magenta\")\n",
    "table.add_column(\"Box Office\", justify=\"right\", style=\"green\")\n",
    "\n",
    "table.add_row(\"Dec 20, 2019\", \"Star Wars: The Rise of Skywalker\", \"$952,110,690\")\n",
    "table.add_row(\"May 25, 2018\", \"Solo: A Star Wars Story\", \"$393,151,347\")\n",
    "table.add_row(\"Dec 15, 2017\", \"Star Wars Ep. V111: The Last Jedi\", \"$1,332,539,889\")\n",
    "table.add_row(\"Dec 16, 2016\", \"Rogue One: A Star Wars Story\", \"$1,332,439,889\")\n",
    "\n",
    "console = Console()\n",
    "console.print(table)"
   ]
  }
 ],
 "metadata": {
  "kernelspec": {
   "display_name": "py3",
   "language": "python",
   "name": "py3"
  },
  "language_info": {
   "codemirror_mode": {
    "name": "ipython",
    "version": 3
   },
   "file_extension": ".py",
   "mimetype": "text/x-python",
   "name": "python",
   "nbconvert_exporter": "python",
   "pygments_lexer": "ipython3",
   "version": "3.9.1"
  }
 },
 "nbformat": 4,
 "nbformat_minor": 4
}
